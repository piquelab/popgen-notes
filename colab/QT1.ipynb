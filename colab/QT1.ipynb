{
  "cells": [
    {
      "cell_type": "markdown",
      "metadata": {
        "id": "view-in-github",
        "colab_type": "text"
      },
      "source": [
        "<a href=\"https://colab.research.google.com/github/piquelab/popgen-notes/blob/master/colab/QT1.ipynb\" target=\"_parent\"><img src=\"https://colab.research.google.com/assets/colab-badge.svg\" alt=\"Open In Colab\"/></a>"
      ]
    },
    {
      "cell_type": "markdown",
      "metadata": {
        "id": "eG7p63UYAgIQ"
      },
      "source": [
        "## Loss of heterozygosity due to drift\n",
        "---\n",
        "\n",
        "This google colab is modified from Graham Coop: https://github.com/cooplab/popgen-notes/blob/master/Rcode/Loss_of_heterozyg_varying_pop.R\n",
        "\n",
        "\n"
      ]
    },
    {
      "cell_type": "markdown",
      "metadata": {
        "id": "X5NLRhdyzcOL"
      },
      "source": []
    },
    {
      "cell_type": "code",
      "execution_count": null,
      "metadata": {
        "id": "RegZ4nRrAGMA"
      },
      "outputs": [],
      "source": [
        "install.packages(\"plotrix\")\n",
        "library(\"plotrix\")"
      ]
    },
    {
      "cell_type": "code",
      "execution_count": null,
      "metadata": {
        "id": "HWTROYujBF94"
      },
      "outputs": [],
      "source": [
        "simulate.pop<-function(N.vec=rep(5,30), const.RS=TRUE,  mutation= TRUE, mut.rate=  0.1, for.class= TRUE, initial.state=\"all.black\",plot.freqs=FALSE,mult.pop=FALSE,pops=FALSE){\n",
        "   #  c(rep(10,5),rep(3,2),rep(10,5),rep(3,2),rep(10,5))  #\n",
        "\tstopifnot(initial.state %in% c(\"all.black\",\"all.diff\",\"two.alleles\",\"single.mut\") )\n",
        "\n",
        "\tif(plot.freqs){ layout(c(1,2)); par(mar=c(1,2,0,1))}\n",
        "\tif(for.class){\n",
        "\t\tline.lwd<-1\n",
        "\t\tline.col<-\"black\"\n",
        "\t\tmut.line.lwd<-1\n",
        "\t\tmut.line.col<-\"black\"\n",
        "\n",
        "\t}else{\n",
        "\t\tline.lwd<-0.5\n",
        "\t\tline.col<-\"grey\"\n",
        "\t\tmut.line.lwd<-1\n",
        "\t\tmut.line.col<-\"grey\"\n",
        "\t}\n",
        "\n",
        "\tnum.gens<- length(N.vec)-1\n",
        "\n",
        "\tif(!mult.pop){\n",
        "\t\tind.pop.par<-matrix(1,nrow=max(N.vec),ncol=num.gens+1)\n",
        "\t\tind.pop<-matrix(1,nrow=max(N.vec),ncol=num.gens+1)\n",
        "\t}else{\n",
        "\t\t\tind.pop.par<-pops[[\"ind.pop.par\"]]\n",
        "\t\t\tind.pop<-pops[[\"ind.pop\"]]\n",
        "\t}\n",
        "\n",
        "\tnum.gens<- length(N.vec)-1\n",
        "\toffset<-0.1\n",
        "\tplot(c(1,num.gens),c(0.5,max(N.vec))+c(-offset,offset),type=\"n\",axes=FALSE,xlab=\"\",ylab=\"\")\n",
        "\tmtext(side=1,line=0,\"Generations\")\n",
        "\t text(1,0.5,\"Past\")\n",
        "\t text(num.gens-1,0.5,\"Present\")\n",
        "\n",
        "\t track.cols<- list()\n",
        "\tN <-N.vec[1]\n",
        "\t if(initial.state==\"all.black\") my.cols<-rep(\"black\",2*N)  #sample(rainbow(2*N))\n",
        "\t if(initial.state==\"all.diff\") my.cols<-sample(rainbow(2*N))\n",
        "\t if(initial.state==\"two.alleles\")  my.cols<-  rep(c(\"blue\",\"red\"),N)\n",
        "\t if(initial.state==\"single.mut\")  my.cols<-  c(\"red\",rep(\"blue\",2*N-1))\n",
        "\t stopifnot((2*N)==length(my.cols))\n",
        "\n",
        "\t track.cols[[1]]<-my.cols\n",
        "\tpoints(rep(1,N),1:N+offset, pch=19,cex=1.3,col=my.cols[(1:N)*2])\n",
        "\t points(rep(1,N),1:N-offset, pch=19,cex=1.3,col=my.cols[(1:N)*2-1])\n",
        "\n",
        "\tfor(i in 1:num.gens){\n",
        "\n",
        "\t\tN.new<-N.vec[i+1]\n",
        "\t\tN.old<-N.vec[i]\n",
        "\t\tpoints(rep(i,N.old),1:N.old+offset, pch=19,cex=1.3,col=my.cols[(1:N.old)*2])\n",
        "\t\tpoints(rep(i,N.old),1:N.old-offset, pch=19,cex=1.3,col=my.cols[(1:N.old)*2-1])\n",
        "\n",
        "\t\t new.cols<-rep(\"black\",2*N.new)\n",
        "\n",
        "\t\tif(const.RS){\n",
        "\t\t\trepro.success<-rep(1/N.old,N.old)\n",
        "\t\t}else{\n",
        "\t\t\trepro.success<-sample(c(rep(0.5/(N.old),N.old-2),c(0.25,0.25)),replace=FALSE)\n",
        "\t\t\t}\n",
        "\n",
        "\t\t for(ind in 1:N.new){\n",
        "\n",
        "\t\t\t\tthis.pop.par <- ind.pop.par[ind,i+1]\n",
        "\t\t\t\tavailable.pars <- (1:N.old)[which(ind.pop[1:N.old,i] == this.pop.par)]\n",
        "\t\t\t\tpar<-sample(available.pars,2,replace=FALSE,prob=repro.success[which(ind.pop[1:N.old,i] == this.pop.par)])\n",
        "\n",
        "\t\t\t\twhich.allele.1<-sample(c(-1,1),1)\n",
        "\t\t\t\tif(i != num.gens){ lines(c(i,i+1), c(par[1]+which.allele.1*offset,ind-offset),col=line.col,lwd=line.lwd)}\n",
        "\t\t\t\tnew.cols[2*ind-1]<- my.cols[2*par[1] +ifelse(which.allele.1==1,0,-1)]\n",
        "\n",
        "\t\t\t\twhich.allele.2<-sample(c(-1,1),1)\n",
        "\t\t\t\tif(i != num.gens){ lines(c(i,i+1), c(par[2]+which.allele.2*offset,ind+offset),col=line.col,lwd=line.lwd)}\n",
        "\t\t\t\tnew.cols[2*ind]<- my.cols[2*par[2] +ifelse(which.allele.2==1,0,-1)]\n",
        "\n",
        "\t\t\t\tif(mutation){\n",
        "\t\t\t\t\tif(runif(1)<mut.rate){\n",
        "\t\t\t\t\t\t\tnew.cols[2*ind-1]<- sample(rainbow(4*N),1)\n",
        "\t\t\t\t\t\t\tif(i != num.gens){ lines(c(i,i+1), c(par[1]+which.allele.1*offset,ind-offset),col=mut.line.col,lwd=mut.line.lwd)}\n",
        "\n",
        "\t\t\t\t\t\t}\n",
        "\t\t\t\t\tif(runif(1)<mut.rate){\n",
        "\t\t\t\t\t\tnew.cols[2*ind]<- sample(rainbow(4*N),1)\n",
        "\t\t\t\t\t\tif(i != num.gens){ lines(c(i,i+1), c(par[2]+which.allele.2*offset,ind+offset),col=mut.line.col,lwd=mut.line.lwd)}\n",
        "\t\t\t\t}\n",
        "\n",
        "\t\t\t}\n",
        "\t\t}\n",
        "\t\t##redraw points to cover lines\n",
        "\t\tpoints(rep(i,N.old),1:N.old+offset, pch=19,cex=1.3,col=my.cols[(1:N.old)*2])\n",
        "\t\tpoints(rep(i,N.old),1:N.old-offset, pch=19,cex=1.3,col=my.cols[(1:N.old)*2-1])\n",
        "\n",
        "\t\t my.cols<-new.cols\n",
        "\t\t track.cols[[i+1]]<-my.cols\n",
        "\t\tif(!const.RS) sapply(which(repro.success>1/N.old), function(ind){ draw.circle(x=i,y=ind,radius=0.2,nv=100,border=NULL,col=NA,lty=1,lwd=1)})\n",
        "\t}\n",
        "#\trecover()\n",
        "\tif(plot.freqs){\n",
        "\t\tplot(c(1,num.gens),c(0,1),type=\"n\",axes=FALSE,xlab=\"\",ylab=\"\")\n",
        "\t\tall.my.cols<-unique(unlist(track.cols))\n",
        "\n",
        "\t\tif(!mult.pop){\n",
        "\t\t\tmy.col.freqs<-sapply(track.cols,function(my.gen){sapply(all.my.cols,function(my.col){sum(my.gen==my.col)})})\n",
        "\n",
        "\t\t\tsapply(all.my.cols,function(col.name){lines(my.col.freqs[col.name,]/(2*N.vec),col=col.name,lwd=2)});\n",
        "\t\t\t}else{\n",
        "\n",
        "\t\t\tfor(pop in 1:max(ind.pop)){\n",
        "\t\t\t\tmy.col.freqs<-sapply(1:num.gens, function(gen){\n",
        "\t#\t\t\trecover()\n",
        "\t\t\t\t\tmy.gen<-track.cols[[gen]]\n",
        "\t\t\t\t\tif(all(ind.pop.par[ind.pop[,gen]==pop,gen]==0)) return(rep(NA,length(all.my.cols)))  #if pop doesn't exist in this gen.\n",
        "\n",
        "\t\t\t\t\tthese.inds<-which(ind.pop[,gen]==pop)\n",
        "\t\t\t\t\tmy.gen<-c(my.gen[these.inds*2],my.gen[these.inds*2-1])\n",
        "\t\t\t\t\tsapply(all.my.cols,function(my.col){\n",
        "\t\t\t\t\t\tsum(my.gen==my.col)\n",
        "\t\t\t\t\t})})\n",
        "\t\t\t\trownames(my.col.freqs)<-\t\tall.my.cols\n",
        "\t\t\t\tsapply(all.my.cols[-length(all.my.cols)],function(col.name){lines(my.col.freqs[col.name,]/(2*5),col=col.name,lwd=2,lty=pop)});\n",
        "\t\t\t}\n",
        "\t\t\t}\n",
        "\n",
        "\t\taxis(2)\n",
        "\t}\n",
        "}"
      ]
    },
    {
      "cell_type": "markdown",
      "metadata": {
        "id": "CbWtHrDYz1j8"
      },
      "source": [
        "### DEPICTIONS OF JUST DRIFT"
      ]
    },
    {
      "cell_type": "code",
      "execution_count": null,
      "metadata": {
        "id": "fxQheFTrBPrz"
      },
      "outputs": [],
      "source": [
        "simulate.pop(N.vec=rep(5,15), const.RS=TRUE,  mutation= FALSE, for.class= TRUE, initial.state=\"all.diff\")\n",
        "simulate.pop(N.vec=rep(5,15), const.RS=TRUE,  mutation= FALSE, for.class= TRUE, initial.state=\"all.diff\")\n",
        "simulate.pop(N.vec=rep(5,15), const.RS=TRUE,  mutation= FALSE, for.class= TRUE, initial.state=\"all.diff\")\n",
        "simulate.pop(N.vec=rep(5,15), const.RS=TRUE,  mutation= FALSE, for.class= TRUE, initial.state=\"all.diff\")\n"
      ]
    },
    {
      "cell_type": "code",
      "execution_count": null,
      "metadata": {
        "id": "LnwR1KH8bZLG"
      },
      "outputs": [],
      "source": [
        "\tsimulate.pop(N.vec= rep(5,15), const.RS=TRUE,  mutation= FALSE, for.class= TRUE, initial.state=\"two.alleles\")\n",
        "\tsimulate.pop(N.vec= rep(5,15), const.RS=TRUE,  mutation= FALSE, for.class= TRUE, initial.state=\"two.alleles\")\n",
        "\tsimulate.pop(N.vec= rep(5,15), const.RS=TRUE,  mutation= FALSE, for.class= TRUE, initial.state=\"two.alleles\")\n"
      ]
    },
    {
      "cell_type": "code",
      "execution_count": null,
      "metadata": {
        "id": "kVs5rx_8b07J"
      },
      "outputs": [],
      "source": [
        "single.crash<- c(rep(10,5),rep(3,2),rep(10,5))\n",
        "simulate.pop(N.vec=single.crash, const.RS=TRUE,  mutation= FALSE, for.class= TRUE, initial.state=\"all.diff\")\n",
        "simulate.pop(N.vec=single.crash, const.RS=TRUE,  mutation= FALSE, for.class= TRUE, initial.state=\"all.diff\")\n",
        "simulate.pop(N.vec=single.crash, const.RS=TRUE,  mutation= FALSE, for.class= TRUE, initial.state=\"all.diff\")"
      ]
    },
    {
      "cell_type": "code",
      "execution_count": null,
      "metadata": {
        "id": "_EzU-968cFcb"
      },
      "outputs": [],
      "source": [
        "repeated.crash<- c(rep(10,5),rep(3,2),rep(10,5),rep(3,2),rep(10,5))\n",
        "simulate.pop(N.vec=repeated.crash, const.RS=TRUE,  mutation= FALSE, for.class= TRUE, initial.state=\"all.diff\")\n",
        "simulate.pop(N.vec=repeated.crash, const.RS=TRUE,  mutation= FALSE, for.class= TRUE, initial.state=\"all.diff\")\n",
        "simulate.pop(N.vec=repeated.crash, const.RS=TRUE,  mutation= FALSE, for.class= TRUE, initial.state=\"all.diff\")"
      ]
    },
    {
      "cell_type": "code",
      "execution_count": null,
      "metadata": {
        "id": "CBfL_noecX9I"
      },
      "outputs": [],
      "source": [
        "simulate.pop(N.vec=rep(10,10), const.RS=FALSE,  mutation= FALSE, for.class= TRUE, initial.state=\"all.diff\")\n",
        "\tsimulate.pop(N.vec=rep(10,10), const.RS=FALSE,  mutation= FALSE, for.class= TRUE, initial.state=\"all.diff\")\n",
        "\tsimulate.pop(N.vec=rep(10,10), const.RS=FALSE,  mutation= FALSE, for.class= TRUE, initial.state=\"all.diff\")\n"
      ]
    },
    {
      "cell_type": "markdown",
      "metadata": {
        "id": "WCtGxwlCz-aN"
      },
      "source": [
        "### MUTATION"
      ]
    },
    {
      "cell_type": "code",
      "execution_count": null,
      "metadata": {
        "id": "fwkOFAhz5FP9"
      },
      "outputs": [],
      "source": [
        "simulate.pop(N.vec=rep(5,30), const.RS=TRUE,  mutation= TRUE, mut.rate=  0.1, for.class= TRUE, initial.state=\"all.black\")\n",
        "\tsimulate.pop(N.vec=rep(5,30), const.RS=TRUE,  mutation= TRUE, mut.rate=  0.1, for.class= TRUE, initial.state=\"all.black\")\n",
        "\tsimulate.pop(N.vec=rep(5,30), const.RS=TRUE,  mutation= TRUE, mut.rate=  0.1, for.class= TRUE, initial.state=\"all.black\")"
      ]
    },
    {
      "cell_type": "code",
      "execution_count": null,
      "metadata": {
        "id": "9rfpiMYr5M42"
      },
      "outputs": [],
      "source": [
        "simulate.pop(N.vec=rep(5,30), const.RS=TRUE,  mutation=TRUE, mut.rate=  0.2, for.class= TRUE, initial.state=\"all.black\")\n",
        "\tsimulate.pop(N.vec=rep(5,30), const.RS=TRUE,  mutation= TRUE, mut.rate=  0.2, for.class= TRUE, initial.state=\"all.black\")\n",
        "\tsimulate.pop(N.vec=rep(5,30), const.RS=TRUE,  mutation= TRUE, mut.rate=  0.2, for.class= TRUE, initial.state=\"all.black\")"
      ]
    },
    {
      "cell_type": "code",
      "execution_count": null,
      "metadata": {
        "id": "32Cp50Rw5Tmb"
      },
      "outputs": [],
      "source": [
        "simulate.pop(N.vec=rep(5,30), const.RS=TRUE,  mutation= TRUE, for.class= TRUE,plot.freqs=TRUE,initial.state=\"all.black\")\n",
        "simulate.pop(N.vec=rep(5,30), const.RS=TRUE,  mutation= TRUE, for.class= TRUE,plot.freqs=TRUE,initial.state=\"all.black\")\n",
        "simulate.pop(N.vec=rep(5,30), const.RS=TRUE,  mutation= TRUE, for.class= TRUE,plot.freqs=TRUE,initial.state=\"all.black\")"
      ]
    },
    {
      "cell_type": "markdown",
      "metadata": {
        "id": "gyYZ5zup6Y_v"
      },
      "source": [
        "####Incomplete lineage sorting\n"
      ]
    },
    {
      "cell_type": "code",
      "execution_count": null,
      "metadata": {
        "id": "-zpOEoI26cBx"
      },
      "outputs": [],
      "source": [
        "####Incomplete lineage sorting\n",
        "one.out.of.3<-c(rep(1,5),rep(0,10))\n",
        "two.out.of.3<-c(rep(1,5),rep(2,5),rep(0,5))\n",
        "three.out.of.3<-c(rep(1,5),rep(2,5),rep(3,5))\n",
        "pops<-list()\n",
        "pops[[\"ind.pop.par\"]]<-\tmatrix(c(rep(one.out.of.3,5),c(rep(1,10),rep(0,5)),rep(two.out.of.3,4),c(rep(1,5),rep(2,10)) ,rep(three.out.of.3,15)),nrow=15)\n",
        "\n",
        "N.vec<-apply(pops[[\"ind.pop.par\"]],2,function(x){sum(x!=0)})\n",
        "#N.vec<-apply(ind.pop.par,2,function(x){sum(x!=0)})\n",
        "num.gens<- length(N.vec)-1\n",
        "pops[[\"ind.pop\"]]<-sapply(1:num.gens,function(i){c(rep(1,5),rep(2,5),rep(3,5))})\n",
        "\n",
        "replicate(100,{\n",
        "\t\tsimulate.pop(N.vec=N.vec, const.RS=TRUE,  mutation= FALSE, for.class= TRUE, initial.state=\"all.diff\",mult.pop=TRUE,pops=pops)\n",
        "\t\tlines(x=c(6.5,100),y=c(5.5,5.5),lwd=4,col=\"darkgrey\")\t##show barrier to migration\n",
        "\t\tlines(x=c(11.5,100),y=c(10.5,10.5),lwd=4,col=\"darkgrey\")\n",
        "})"
      ]
    },
    {
      "cell_type": "code",
      "execution_count": null,
      "metadata": {
        "id": "M_kQwU8l66QM"
      },
      "outputs": [],
      "source": [
        "replicate(100,{\n",
        "\t\tsimulate.pop(N.vec=N.vec, const.RS=TRUE,  mutation= FALSE, for.class= TRUE, initial.state=\"single.mut\",mult.pop=TRUE,pops=pops)\n",
        "\t\tlines(x=c(6.5,100),y=c(5.5,5.5),lwd=4,col=\"darkgrey\")\t##show barrier to migration\n",
        "\t\tlines(x=c(11.5,100),y=c(10.5,10.5),lwd=4,col=\"darkgrey\")\n",
        "})"
      ]
    },
    {
      "cell_type": "code",
      "execution_count": null,
      "metadata": {
        "colab": {
          "background_save": true
        },
        "id": "-pH8Idtp7KXw"
      },
      "outputs": [],
      "source": [
        "one.out.of.2<-c(rep(1,5),rep(0,5))\n",
        "\ttwo.out.of.2<-c(rep(1,5),rep(2,5))\n",
        "\tind.pop.par<-\tmatrix(c(rep(one.out.of.2,5),rep(1,10),rep(two.out.of.2,8)),nrow=10)\n",
        "\tN.vec<-apply(ind.pop.par,2,function(x){sum(x!=0)})\n",
        "\tind.pop<-sapply(1:ncol(ind.pop.par),function(i){c(rep(1,5),rep(2,5))})\n",
        "\n",
        "\treplicate(50,{\n",
        "\t\tsimulate.pop(N.vec=N.vec, const.RS=TRUE,  mutation= FALSE, for.class= TRUE, initial.state=\"two.alleles\",mult.pop=TRUE,pops=pops,plot.freqs=TRUE)\n",
        "\t#\tlines(x=c(6.5,100),y=c(5.5,5.5),lwd=4,col=\"darkgrey\")\t##show barrier to migration\n",
        "\t})\n",
        "\n",
        "   \tpdf(file=paste(my.dir,\"single_mut_figures.pdf\",sep=\"\"),width=15,height=8) #,width = 800, height = 400\n",
        "\treplicate(100,{\n",
        "\t\tsimulate.pop(N.vec=rep(5,20), const.RS=TRUE,  mutation= FALSE, for.class= TRUE, initial.state=\"single.mut\")\t})"
      ]
    },
    {
      "cell_type": "code",
      "execution_count": null,
      "metadata": {
        "id": "uxw0qnNL_TCB"
      },
      "outputs": [],
      "source": [
        "##simulate demography\n",
        "single.crash<- c(rep(10,10),rep(3,2),rep(10,5))\n",
        "simulate.pop(N.vec=single.crash, const.RS=TRUE,  mutation= TRUE, mut.rate=  0.05, for.class= TRUE, initial.state=\"all.black\")\n",
        "\n",
        "pop.growth<- c(rep(2,3),2^c(1:4,4))\n",
        "simulate.pop(N.vec=pop.growth, const.RS=TRUE,  mutation= TRUE, mut.rate=  0.05, for.class= TRUE, initial.state=\"all.black\")"
      ]
    }
  ],
  "metadata": {
    "colab": {
      "provenance": [],
      "authorship_tag": "ABX9TyMcO/QwIcL3qRAMJCHZuwiq",
      "include_colab_link": true
    },
    "kernelspec": {
      "display_name": "R",
      "name": "ir"
    },
    "language_info": {
      "name": "R"
    }
  },
  "nbformat": 4,
  "nbformat_minor": 0
}